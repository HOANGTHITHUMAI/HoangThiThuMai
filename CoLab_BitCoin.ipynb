{
  "nbformat": 4,
  "nbformat_minor": 0,
  "metadata": {
    "colab": {
      "name": "CoLab_BitCoin.ipynb",
      "provenance": []
    },
    "kernelspec": {
      "name": "python3",
      "display_name": "Python 3"
    },
    "language_info": {
      "name": "python"
    }
  },
  "cells": [
    {
      "cell_type": "code",
      "metadata": {
        "colab": {
          "base_uri": "https://localhost:8080/"
        },
        "id": "9APxZ5Ja9bo4",
        "outputId": "0f2c4b36-6f02-48e6-94b6-34d6c40cdc60"
      },
      "source": [
        "from google.colab import drive\n",
        "drive.mount('/content/drive')"
      ],
      "execution_count": null,
      "outputs": [
        {
          "output_type": "stream",
          "text": [
            "Mounted at /content/drive\n"
          ],
          "name": "stdout"
        }
      ]
    },
    {
      "cell_type": "code",
      "metadata": {
        "id": "ExxqZYUm86t2"
      },
      "source": [
        "import numpy as np\n",
        "import matplotlib.pyplot as plt\n",
        "from pathlib import Path\n",
        "import pandas as pd\n",
        "import random\n",
        "import pickle\n",
        "import tensorflow as tf\n",
        "from tensorflow import keras\n",
        "from tensorflow.keras.models import Sequential\n",
        "from tensorflow.keras.layers import LSTM,Dense ,Dropout, Bidirectional\n",
        "from sklearn.model_selection import train_test_split\n",
        "from sklearn.preprocessing import MinMaxScaler"
      ],
      "execution_count": null,
      "outputs": []
    },
    {
      "cell_type": "markdown",
      "metadata": {
        "id": "6Gp63o_NXGZT"
      },
      "source": [
        "Load dataset"
      ]
    },
    {
      "cell_type": "code",
      "metadata": {
        "id": "TN9DO56D-Mpg"
      },
      "source": [
        "da = pd.read_csv('/content/drive/MyDrive/Colab Notebooks/LabRNN/bitcoin/BTC_USD_2013-10-01_2021-03-30.csv')\n",
        "da.head()\n",
        "dataset = da.copy()\n",
        "dataset_labels = dataset.pop('Closing Price (USD)')\n",
        "dataset = np.array(dataset_labels)\n",
        "#dataset"
      ],
      "execution_count": null,
      "outputs": []
    },
    {
      "cell_type": "markdown",
      "metadata": {
        "id": "l1w02LgoXPH1"
      },
      "source": [
        "Scaler dataset"
      ]
    },
    {
      "cell_type": "code",
      "metadata": {
        "id": "7kGQg8yx-TEv"
      },
      "source": [
        "sc = MinMaxScaler(feature_range=(0,1))\n",
        "dataset = dataset.reshape(-1, 1)\n",
        "dataset_scaled = sc.fit_transform(dataset)\n",
        "#dataset_scaled"
      ],
      "execution_count": null,
      "outputs": []
    },
    {
      "cell_type": "markdown",
      "metadata": {
        "id": "qAmjYk4kXXBc"
      },
      "source": [
        "Tạo input"
      ]
    },
    {
      "cell_type": "code",
      "metadata": {
        "id": "Iu0nnyIu-Tsn"
      },
      "source": [
        "X = []\n",
        "Y = []\n",
        "n_future = 1 # next 1 days forecast\n",
        "n_past = 30 # Past 30 days \n",
        "for i in range(0,len(dataset_scaled)-n_past-n_future+1):\n",
        "    X.append(dataset_scaled[i : i + n_past , 0])     \n",
        "    Y.append(dataset_scaled[i + n_past : i + n_past + n_future , 0 ])\n",
        "X , Y = np.array(X), np.array(Y)\n",
        "X = np.reshape(X, (X.shape[0] , X.shape[1], 1) )"
      ],
      "execution_count": null,
      "outputs": []
    },
    {
      "cell_type": "code",
      "metadata": {
        "colab": {
          "base_uri": "https://localhost:8080/"
        },
        "id": "7MDed2ayY1Es",
        "outputId": "f5d7c795-72b0-4697-9df8-4ead8c0ccfb1"
      },
      "source": [
        "len(X)"
      ],
      "execution_count": null,
      "outputs": [
        {
          "output_type": "execute_result",
          "data": {
            "text/plain": [
              "2708"
            ]
          },
          "metadata": {
            "tags": []
          },
          "execution_count": 11
        }
      ]
    },
    {
      "cell_type": "markdown",
      "metadata": {
        "id": "C292Q7PJago6"
      },
      "source": [
        "Tạp tập train và tập test."
      ]
    },
    {
      "cell_type": "code",
      "metadata": {
        "id": "z1l6n-BTZ49y"
      },
      "source": [
        "X_train, X_test, Y_train, Y_test = train_test_split(X, Y, test_size=0.01)"
      ],
      "execution_count": null,
      "outputs": []
    },
    {
      "cell_type": "code",
      "metadata": {
        "colab": {
          "base_uri": "https://localhost:8080/"
        },
        "id": "OJeZa2XiaVyr",
        "outputId": "ca0e6931-998e-43fc-e6fa-3e67cbfd5953"
      },
      "source": [
        "len(X_train)"
      ],
      "execution_count": null,
      "outputs": [
        {
          "output_type": "execute_result",
          "data": {
            "text/plain": [
              "2680"
            ]
          },
          "metadata": {
            "tags": []
          },
          "execution_count": 61
        }
      ]
    },
    {
      "cell_type": "code",
      "metadata": {
        "colab": {
          "base_uri": "https://localhost:8080/"
        },
        "id": "kBr2QZjnaZ0U",
        "outputId": "cff8108b-ba71-4fe3-bed1-16b92ce5563f"
      },
      "source": [
        "len(X_test)"
      ],
      "execution_count": null,
      "outputs": [
        {
          "output_type": "execute_result",
          "data": {
            "text/plain": [
              "28"
            ]
          },
          "metadata": {
            "tags": []
          },
          "execution_count": 13
        }
      ]
    },
    {
      "cell_type": "markdown",
      "metadata": {
        "id": "29R_tQGIaoLN"
      },
      "source": [
        "Lưu X_train, X_test, Y_train và Y_test"
      ]
    },
    {
      "cell_type": "code",
      "metadata": {
        "id": "YwZx-u1wa4Fb"
      },
      "source": [
        "#train\n",
        "pickle_out = open(\"/content/drive/MyDrive/Colab Notebooks/LabRNN/bitcoin/X_train.pickle\", \"wb\")\n",
        "pickle.dump(X_train, pickle_out)\n",
        "pickle_out.close()\n",
        "\n",
        "pickle_out = open(\"/content/drive/MyDrive/Colab Notebooks/LabRNN/bitcoin/Y_train.pickle\", \"wb\")\n",
        "pickle.dump(Y_train, pickle_out)\n",
        "pickle_out.close()\n",
        "\n",
        "#test\n",
        "pickle_out = open(\"/content/drive/MyDrive/Colab Notebooks/LabRNN/bitcoin/X_test.pickle\", \"wb\")\n",
        "pickle.dump(X_test, pickle_out)\n",
        "pickle_out.close()\n",
        "\n",
        "pickle_out = open(\"/content/drive/MyDrive/Colab Notebooks/LabRNN/bitcoin/Y_test.pickle\", \"wb\")\n",
        "pickle.dump(Y_test, pickle_out)\n",
        "pickle_out.close()"
      ],
      "execution_count": null,
      "outputs": []
    },
    {
      "cell_type": "markdown",
      "metadata": {
        "id": "YQrIaawqbSg7"
      },
      "source": [
        "Đọc các X Y train test mà ta đã lưu"
      ]
    },
    {
      "cell_type": "code",
      "metadata": {
        "id": "Q6EzYNcUbbVb"
      },
      "source": [
        "#train\n",
        "pickle_in = open(\"/content/drive/MyDrive/Colab Notebooks/LabRNN/bitcoin/X_train.pickle\", \"rb\")\n",
        "X_train = pickle.load(pickle_in)\n",
        "pickle_in.close()\n",
        "\n",
        "pickle_in = open(\"/content/drive/MyDrive/Colab Notebooks/LabRNN/bitcoin/Y_train.pickle\", \"rb\")\n",
        "Y_train = pickle.load(pickle_in)\n",
        "pickle_in.close()\n",
        "\n",
        "#test\n",
        "pickle_in = open(\"/content/drive/MyDrive/Colab Notebooks/LabRNN/bitcoin/X_test.pickle\", \"rb\")\n",
        "X_test = pickle.load(pickle_in)\n",
        "pickle_in.close()\n",
        "\n",
        "pickle_in = open(\"/content/drive/MyDrive/Colab Notebooks/LabRNN/bitcoin/Y_test.pickle\", \"rb\")\n",
        "Y_test = pickle.load(pickle_in)\n",
        "pickle_in.close()"
      ],
      "execution_count": null,
      "outputs": []
    },
    {
      "cell_type": "markdown",
      "metadata": {
        "id": "Wscxpak2buJ8"
      },
      "source": [
        "Xây dựng model"
      ]
    },
    {
      "cell_type": "code",
      "metadata": {
        "id": "hs-ckmATiAF8"
      },
      "source": [
        "# load lại model cũ đã lưu\n",
        "#regressor = tf.keras.models.load_model('/content/drive/MyDrive/Colab Notebooks/LabRNN/bitcoin/my_model.h5')\n",
        "#regressor.summary()"
      ],
      "execution_count": null,
      "outputs": []
    },
    {
      "cell_type": "code",
      "metadata": {
        "id": "5jYn6RCz-dVf",
        "colab": {
          "base_uri": "https://localhost:8080/"
        },
        "outputId": "42ad7c84-f625-4cbc-8282-c629311d5835"
      },
      "source": [
        "regressor = Sequential()\n",
        "regressor.add(Bidirectional(LSTM(units=30, return_sequences=True, input_shape = (X_train.shape[1],1) ) ))\n",
        "\n",
        "regressor.add(LSTM(units= 30 , return_sequences=True))\n",
        "regressor.add(Dropout(0.2))\n",
        "\n",
        "regressor.add(LSTM(units= 30 , return_sequences=True))\n",
        "regressor.add(Dropout(0.2))\n",
        "\n",
        "regressor.add(LSTM(units= 30))\n",
        "regressor.add(Dropout(0.2))\n",
        "\n",
        "regressor.add(Dense(units = n_future, activation='linear'))\n",
        "\n",
        "regressor.compile(optimizer='adam', loss='mean_squared_error',metrics=['acc'])\n",
        "\n",
        "history = regressor.fit(X_train, Y_train, epochs=100, batch_size=32 )\n",
        "\n",
        "regressor.summary()"
      ],
      "execution_count": null,
      "outputs": [
        {
          "output_type": "stream",
          "text": [
            "Epoch 1/100\n",
            "84/84 [==============================] - 13s 51ms/step - loss: 0.0089 - acc: 0.0000e+00\n",
            "Epoch 2/100\n",
            "84/84 [==============================] - 4s 52ms/step - loss: 0.0014 - acc: 0.0010\n",
            "Epoch 3/100\n",
            "84/84 [==============================] - 4s 53ms/step - loss: 0.0015 - acc: 4.5956e-04\n",
            "Epoch 4/100\n",
            "84/84 [==============================] - 4s 53ms/step - loss: 0.0012 - acc: 3.4454e-04\n",
            "Epoch 5/100\n",
            "84/84 [==============================] - 5s 54ms/step - loss: 0.0010 - acc: 7.3753e-04\n",
            "Epoch 6/100\n",
            "84/84 [==============================] - 5s 54ms/step - loss: 8.5952e-04 - acc: 5.5677e-05\n",
            "Epoch 7/100\n",
            "84/84 [==============================] - 4s 53ms/step - loss: 0.0011 - acc: 2.8397e-04\n",
            "Epoch 8/100\n",
            "84/84 [==============================] - 5s 54ms/step - loss: 7.4822e-04 - acc: 4.7487e-04\n",
            "Epoch 9/100\n",
            "84/84 [==============================] - 5s 54ms/step - loss: 8.2686e-04 - acc: 2.7478e-04\n",
            "Epoch 10/100\n",
            "84/84 [==============================] - 4s 54ms/step - loss: 6.3602e-04 - acc: 4.0396e-04\n",
            "Epoch 11/100\n",
            "84/84 [==============================] - 5s 54ms/step - loss: 5.9160e-04 - acc: 1.3959e-04\n",
            "Epoch 12/100\n",
            "84/84 [==============================] - 5s 54ms/step - loss: 6.6411e-04 - acc: 0.0015\n",
            "Epoch 13/100\n",
            "84/84 [==============================] - 5s 55ms/step - loss: 7.5983e-04 - acc: 9.8042e-05\n",
            "Epoch 14/100\n",
            "84/84 [==============================] - 5s 54ms/step - loss: 7.5574e-04 - acc: 3.1301e-04\n",
            "Epoch 15/100\n",
            "84/84 [==============================] - 4s 53ms/step - loss: 8.9681e-04 - acc: 3.0307e-04\n",
            "Epoch 16/100\n",
            "84/84 [==============================] - 5s 54ms/step - loss: 6.1853e-04 - acc: 2.2399e-04\n",
            "Epoch 17/100\n",
            "84/84 [==============================] - 5s 55ms/step - loss: 5.9422e-04 - acc: 2.4016e-04\n",
            "Epoch 18/100\n",
            "84/84 [==============================] - 5s 55ms/step - loss: 8.6378e-04 - acc: 3.5568e-04\n",
            "Epoch 19/100\n",
            "84/84 [==============================] - 5s 55ms/step - loss: 4.6212e-04 - acc: 0.0013\n",
            "Epoch 20/100\n",
            "84/84 [==============================] - 4s 53ms/step - loss: 3.8773e-04 - acc: 1.3336e-04\n",
            "Epoch 21/100\n",
            "84/84 [==============================] - 5s 55ms/step - loss: 4.8689e-04 - acc: 1.7938e-04\n",
            "Epoch 22/100\n",
            "84/84 [==============================] - 4s 54ms/step - loss: 4.7670e-04 - acc: 2.6581e-04\n",
            "Epoch 23/100\n",
            "84/84 [==============================] - 4s 53ms/step - loss: 4.8077e-04 - acc: 2.5706e-04\n",
            "Epoch 24/100\n",
            "84/84 [==============================] - 4s 53ms/step - loss: 4.3638e-04 - acc: 5.0708e-05\n",
            "Epoch 25/100\n",
            "84/84 [==============================] - 5s 54ms/step - loss: 5.6756e-04 - acc: 1.5238e-04\n",
            "Epoch 26/100\n",
            "84/84 [==============================] - 5s 54ms/step - loss: 9.1686e-04 - acc: 2.7478e-04\n",
            "Epoch 27/100\n",
            "84/84 [==============================] - 5s 54ms/step - loss: 5.4442e-04 - acc: 7.7095e-04\n",
            "Epoch 28/100\n",
            "84/84 [==============================] - 5s 54ms/step - loss: 4.3974e-04 - acc: 2.8397e-04\n",
            "Epoch 29/100\n",
            "84/84 [==============================] - 5s 54ms/step - loss: 4.9900e-04 - acc: 1.3959e-04\n",
            "Epoch 30/100\n",
            "84/84 [==============================] - 5s 56ms/step - loss: 6.7763e-04 - acc: 2.6581e-04\n",
            "Epoch 31/100\n",
            "84/84 [==============================] - 5s 54ms/step - loss: 4.3826e-04 - acc: 4.1709e-04\n",
            "Epoch 32/100\n",
            "84/84 [==============================] - 5s 55ms/step - loss: 9.2569e-04 - acc: 1.5895e-04\n",
            "Epoch 33/100\n",
            "84/84 [==============================] - 5s 55ms/step - loss: 5.3026e-04 - acc: 1.3959e-04\n",
            "Epoch 34/100\n",
            "84/84 [==============================] - 5s 54ms/step - loss: 5.5312e-04 - acc: 5.4346e-04\n",
            "Epoch 35/100\n",
            "84/84 [==============================] - 5s 54ms/step - loss: 3.8914e-04 - acc: 5.4346e-04\n",
            "Epoch 36/100\n",
            "84/84 [==============================] - 4s 53ms/step - loss: 6.2289e-04 - acc: 8.0771e-04\n",
            "Epoch 37/100\n",
            "84/84 [==============================] - 5s 54ms/step - loss: 7.5600e-04 - acc: 4.5956e-04\n",
            "Epoch 38/100\n",
            "84/84 [==============================] - 5s 54ms/step - loss: 3.9941e-04 - acc: 1.7244e-04\n",
            "Epoch 39/100\n",
            "84/84 [==============================] - 5s 54ms/step - loss: 4.3985e-04 - acc: 1.1528e-04\n",
            "Epoch 40/100\n",
            "84/84 [==============================] - 5s 54ms/step - loss: 4.2226e-04 - acc: 7.0997e-05\n",
            "Epoch 41/100\n",
            "84/84 [==============================] - 5s 55ms/step - loss: 4.5932e-04 - acc: 9.2471e-05\n",
            "Epoch 42/100\n",
            "84/84 [==============================] - 5s 56ms/step - loss: 4.3569e-04 - acc: 1.9366e-04\n",
            "Epoch 43/100\n",
            "84/84 [==============================] - 4s 53ms/step - loss: 3.9954e-04 - acc: 1.7244e-04\n",
            "Epoch 44/100\n",
            "84/84 [==============================] - 5s 54ms/step - loss: 4.0005e-04 - acc: 1.0944e-04\n",
            "Epoch 45/100\n",
            "84/84 [==============================] - 5s 54ms/step - loss: 5.3802e-04 - acc: 2.3199e-04\n",
            "Epoch 46/100\n",
            "84/84 [==============================] - 5s 55ms/step - loss: 3.2146e-04 - acc: 1.2121e-04\n",
            "Epoch 47/100\n",
            "84/84 [==============================] - 5s 54ms/step - loss: 4.3141e-04 - acc: 1.2121e-04\n",
            "Epoch 48/100\n",
            "84/84 [==============================] - 5s 54ms/step - loss: 3.9465e-04 - acc: 3.6717e-04\n",
            "Epoch 49/100\n",
            "84/84 [==============================] - 5s 54ms/step - loss: 3.5325e-04 - acc: 1.1528e-04\n",
            "Epoch 50/100\n",
            "84/84 [==============================] - 5s 55ms/step - loss: 4.5535e-04 - acc: 1.0370e-04\n",
            "Epoch 51/100\n",
            "84/84 [==============================] - 5s 54ms/step - loss: 3.7699e-04 - acc: 1.1528e-04\n",
            "Epoch 52/100\n",
            "84/84 [==============================] - 5s 55ms/step - loss: 2.8461e-04 - acc: 8.4856e-04\n",
            "Epoch 53/100\n",
            "84/84 [==============================] - 5s 55ms/step - loss: 2.8522e-04 - acc: 3.1301e-04\n",
            "Epoch 54/100\n",
            "84/84 [==============================] - 5s 54ms/step - loss: 4.6481e-04 - acc: 5.6281e-04\n",
            "Epoch 55/100\n",
            "84/84 [==============================] - 5s 55ms/step - loss: 3.4247e-04 - acc: 0.0015\n",
            "Epoch 56/100\n",
            "84/84 [==============================] - 5s 55ms/step - loss: 4.6006e-04 - acc: 3.1481e-05\n",
            "Epoch 57/100\n",
            "84/84 [==============================] - 5s 54ms/step - loss: 5.3140e-04 - acc: 3.0307e-04\n",
            "Epoch 58/100\n",
            "84/84 [==============================] - 5s 55ms/step - loss: 4.1518e-04 - acc: 6.0486e-04\n",
            "Epoch 59/100\n",
            "84/84 [==============================] - 5s 55ms/step - loss: 4.4236e-04 - acc: 1.3336e-04\n",
            "Epoch 60/100\n",
            "84/84 [==============================] - 5s 54ms/step - loss: 5.9135e-04 - acc: 9.4704e-04\n",
            "Epoch 61/100\n",
            "84/84 [==============================] - 5s 56ms/step - loss: 4.5061e-04 - acc: 0.0012\n",
            "Epoch 62/100\n",
            "84/84 [==============================] - 5s 56ms/step - loss: 3.9279e-04 - acc: 9.2471e-05\n",
            "Epoch 63/100\n",
            "84/84 [==============================] - 5s 55ms/step - loss: 2.6744e-04 - acc: 2.0851e-04\n",
            "Epoch 64/100\n",
            "84/84 [==============================] - 5s 56ms/step - loss: 4.6098e-04 - acc: 6.5819e-05\n",
            "Epoch 65/100\n",
            "84/84 [==============================] - 5s 55ms/step - loss: 4.7662e-04 - acc: 2.7478e-04\n",
            "Epoch 66/100\n",
            "84/84 [==============================] - 5s 55ms/step - loss: 3.7359e-04 - acc: 2.8397e-04\n",
            "Epoch 67/100\n",
            "84/84 [==============================] - 5s 55ms/step - loss: 3.4736e-04 - acc: 4.9086e-04\n",
            "Epoch 68/100\n",
            "84/84 [==============================] - 5s 54ms/step - loss: 4.2910e-04 - acc: 9.2471e-05\n",
            "Epoch 69/100\n",
            "84/84 [==============================] - 5s 55ms/step - loss: 4.8331e-04 - acc: 2.9340e-04\n",
            "Epoch 70/100\n",
            "84/84 [==============================] - 5s 55ms/step - loss: 4.5471e-04 - acc: 1.5238e-04\n",
            "Epoch 71/100\n",
            "84/84 [==============================] - 5s 56ms/step - loss: 4.7861e-04 - acc: 2.4016e-04\n",
            "Epoch 72/100\n",
            "84/84 [==============================] - 5s 55ms/step - loss: 3.3855e-04 - acc: 5.8323e-04\n",
            "Epoch 73/100\n",
            "84/84 [==============================] - 5s 55ms/step - loss: 5.2426e-04 - acc: 8.9452e-04\n",
            "Epoch 74/100\n",
            "84/84 [==============================] - 5s 55ms/step - loss: 5.1620e-04 - acc: 4.9086e-04\n",
            "Epoch 75/100\n",
            "84/84 [==============================] - 5s 55ms/step - loss: 3.4597e-04 - acc: 3.5568e-04\n",
            "Epoch 76/100\n",
            "84/84 [==============================] - 5s 54ms/step - loss: 3.8634e-04 - acc: 8.0771e-04\n",
            "Epoch 77/100\n",
            "84/84 [==============================] - 5s 55ms/step - loss: 4.9225e-04 - acc: 3.6194e-05\n",
            "Epoch 78/100\n",
            "84/84 [==============================] - 5s 56ms/step - loss: 4.2153e-04 - acc: 2.6827e-05\n",
            "Epoch 79/100\n",
            "84/84 [==============================] - 5s 55ms/step - loss: 3.7639e-04 - acc: 7.6249e-05\n",
            "Epoch 80/100\n",
            "84/84 [==============================] - 5s 55ms/step - loss: 3.7426e-04 - acc: 2.7478e-04\n",
            "Epoch 81/100\n",
            "84/84 [==============================] - 5s 55ms/step - loss: 4.7975e-04 - acc: 9.4704e-04\n",
            "Epoch 82/100\n",
            "84/84 [==============================] - 5s 54ms/step - loss: 3.9961e-04 - acc: 7.6249e-05\n",
            "Epoch 83/100\n",
            "84/84 [==============================] - 5s 55ms/step - loss: 3.6006e-04 - acc: 2.6827e-05\n",
            "Epoch 84/100\n",
            "84/84 [==============================] - 5s 55ms/step - loss: 4.9424e-04 - acc: 7.6249e-05\n",
            "Epoch 85/100\n",
            "84/84 [==============================] - 5s 54ms/step - loss: 3.2438e-04 - acc: 3.9128e-04\n",
            "Epoch 86/100\n",
            "84/84 [==============================] - 5s 55ms/step - loss: 4.6354e-04 - acc: 5.5677e-05\n",
            "Epoch 87/100\n",
            "84/84 [==============================] - 5s 55ms/step - loss: 4.2921e-04 - acc: 1.3336e-04\n",
            "Epoch 88/100\n",
            "84/84 [==============================] - 5s 55ms/step - loss: 3.4407e-04 - acc: 1.7938e-04\n",
            "Epoch 89/100\n",
            "84/84 [==============================] - 5s 55ms/step - loss: 2.7772e-04 - acc: 4.9086e-04\n",
            "Epoch 90/100\n",
            "84/84 [==============================] - 5s 57ms/step - loss: 3.6966e-04 - acc: 1.7244e-04\n",
            "Epoch 91/100\n",
            "84/84 [==============================] - 5s 58ms/step - loss: 3.5683e-04 - acc: 3.6194e-05\n",
            "Epoch 92/100\n",
            "84/84 [==============================] - 5s 57ms/step - loss: 3.9243e-04 - acc: 8.4856e-04\n",
            "Epoch 93/100\n",
            "84/84 [==============================] - 5s 58ms/step - loss: 3.7206e-04 - acc: 6.5235e-04\n",
            "Epoch 94/100\n",
            "84/84 [==============================] - 5s 57ms/step - loss: 3.9081e-04 - acc: 8.9452e-04\n",
            "Epoch 95/100\n",
            "84/84 [==============================] - 5s 57ms/step - loss: 4.2680e-04 - acc: 5.6281e-04\n",
            "Epoch 96/100\n",
            "84/84 [==============================] - 5s 58ms/step - loss: 5.4557e-04 - acc: 1.6563e-04\n",
            "Epoch 97/100\n",
            "84/84 [==============================] - 5s 58ms/step - loss: 5.0987e-04 - acc: 4.7487e-04\n",
            "Epoch 98/100\n",
            "84/84 [==============================] - 5s 57ms/step - loss: 5.1932e-04 - acc: 5.2508e-04\n",
            "Epoch 99/100\n",
            "84/84 [==============================] - 5s 57ms/step - loss: 4.0083e-04 - acc: 2.0851e-04\n",
            "Epoch 100/100\n",
            "84/84 [==============================] - 5s 57ms/step - loss: 3.5075e-04 - acc: 2.4851e-04\n",
            "Model: \"sequential\"\n",
            "_________________________________________________________________\n",
            "Layer (type)                 Output Shape              Param #   \n",
            "=================================================================\n",
            "bidirectional (Bidirectional (None, 30, 60)            7680      \n",
            "_________________________________________________________________\n",
            "lstm_1 (LSTM)                (None, 30, 30)            10920     \n",
            "_________________________________________________________________\n",
            "dropout (Dropout)            (None, 30, 30)            0         \n",
            "_________________________________________________________________\n",
            "lstm_2 (LSTM)                (None, 30, 30)            7320      \n",
            "_________________________________________________________________\n",
            "dropout_1 (Dropout)          (None, 30, 30)            0         \n",
            "_________________________________________________________________\n",
            "lstm_3 (LSTM)                (None, 30)                7320      \n",
            "_________________________________________________________________\n",
            "dropout_2 (Dropout)          (None, 30)                0         \n",
            "_________________________________________________________________\n",
            "dense (Dense)                (None, 1)                 31        \n",
            "=================================================================\n",
            "Total params: 33,271\n",
            "Trainable params: 33,271\n",
            "Non-trainable params: 0\n",
            "_________________________________________________________________\n"
          ],
          "name": "stdout"
        }
      ]
    },
    {
      "cell_type": "markdown",
      "metadata": {
        "id": "tP0JWFsAhtl4"
      },
      "source": [
        "Lưu lại model"
      ]
    },
    {
      "cell_type": "code",
      "metadata": {
        "id": "LC1fi47ahwIb"
      },
      "source": [
        "!mkdir -p saved_model\n",
        "regressor.save('/content/drive/MyDrive/Colab Notebooks/LabRNN/bitcoin/my_model.h5')"
      ],
      "execution_count": null,
      "outputs": []
    },
    {
      "cell_type": "markdown",
      "metadata": {
        "id": "njeSLdeoiRT5"
      },
      "source": [
        "Đánh giá mô hình"
      ]
    },
    {
      "cell_type": "code",
      "metadata": {
        "colab": {
          "base_uri": "https://localhost:8080/",
          "height": 573
        },
        "id": "gBdCDpOJhtRC",
        "outputId": "405da086-08be-424d-d91e-46aadb620c78"
      },
      "source": [
        "# list all data in history\n",
        "#print(history.history.keys())\n",
        "#print(model.metrics_names)\n",
        "# summarize history for accuracy\n",
        "plt.plot(history.history['acc'])\n",
        "plt.title('model accuracy')\n",
        "plt.ylabel('accuracy')\n",
        "plt.xlabel('epoch')\n",
        "plt.legend(['train', 'test'], loc='upper left')\n",
        "plt.show()\n",
        "# summarize history for loss\n",
        "plt.plot(history.history['loss'])\n",
        "plt.title('model loss')\n",
        "plt.ylabel('loss')\n",
        "plt.xlabel('epoch')\n",
        "plt.legend(['train', 'test'], loc='upper left')\n",
        "plt.show()"
      ],
      "execution_count": null,
      "outputs": [
        {
          "output_type": "display_data",
          "data": {
            "image/png": "[encoded data removed]",
            "text/plain": [
              "<Figure size 432x288 with 1 Axes>"
            ]
          },
          "metadata": {
            "tags": [],
            "needs_background": "light"
          }
        },
        {
          "output_type": "display_data",
          "data": {
            "image/png": "[encoded data removed]",
            "text/plain": [
              "<Figure size 432x288 with 1 Axes>"
            ]
          },
          "metadata": {
            "tags": [],
            "needs_background": "light"
          }
        }
      ]
    },
    {
      "cell_type": "markdown",
      "metadata": {
        "id": "D6H1Z5N-ikwu"
      },
      "source": [
        "Đánh giá bằng tập test. \n",
        "Trực quan kết quả"
      ]
    },
    {
      "cell_type": "code",
      "metadata": {
        "colab": {
          "base_uri": "https://localhost:8080/",
          "height": 1000
        },
        "id": "Aks_QinrirHY",
        "outputId": "9b941cb9-f634-43ee-bd34-32fd506d5214"
      },
      "source": [
        "predict = regressor.predict(X_test)\n",
        "\n",
        "plt.plot(sc.inverse_transform(Y_test), color = 'red', label = 'Real Closing Price')\n",
        "plt.plot(sc.inverse_transform(predict), color = 'blue', label = 'Predicted Closing Price')\n",
        "plt.title('Closing Price Bitcoin Prediction')\n",
        "plt.xlabel('Time')\n",
        "plt.ylabel('Price')\n",
        "plt.legend()\n",
        "plt.show()\n",
        "\n",
        "plt.plot(sc.inverse_transform(Y_test[1:15]), color = 'red', label = 'Real Closing Price')\n",
        "plt.plot(sc.inverse_transform(predict[1:15]), color = 'blue', label = 'Predicted Closing Price')\n",
        "plt.title('Closing Price Bitcoin Prediction')\n",
        "plt.xlabel('Time')\n",
        "plt.ylabel('Price')\n",
        "plt.legend()\n",
        "print(sc.inverse_transform(Y_test[1:15]))\n",
        "print(sc.inverse_transform(predict[1:15]))\n",
        "plt.show()"
      ],
      "execution_count": null,
      "outputs": [
        {
          "output_type": "display_data",
          "data": {
            "image/png": "[encoded data removed]",
            "text/plain": [
              "<Figure size 432x288 with 1 Axes>"
            ]
          },
          "metadata": {
            "tags": [],
            "needs_background": "light"
          }
        },
        {
          "output_type": "stream",
          "text": [
            "[[ 1189.55      ]\n",
            " [11278.2812549 ]\n",
            " [  261.71749   ]\n",
            " [ 6866.39818901]\n",
            " [  415.04      ]\n",
            " [  842.63875   ]\n",
            " [ 6360.14127192]\n",
            " [  585.39625   ]\n",
            " [  748.43559   ]\n",
            " [ 6392.17933738]\n",
            " [  289.7149    ]\n",
            " [  595.0175    ]\n",
            " [ 4370.16875   ]\n",
            " [ 7236.98620461]]\n",
            "[[ 1402.2471 ]\n",
            " [10813.417  ]\n",
            " [  600.9827 ]\n",
            " [ 6623.893  ]\n",
            " [  734.50006]\n",
            " [ 1055.2456 ]\n",
            " [ 5775.9604 ]\n",
            " [  882.16064]\n",
            " [ 1092.6885 ]\n",
            " [ 5840.8765 ]\n",
            " [  627.96375]\n",
            " [  894.05554]\n",
            " [ 4076.1677 ]\n",
            " [ 6496.0493 ]]\n"
          ],
          "name": "stdout"
        },
        {
          "output_type": "display_data",
          "data": {
            "image/png": "[encoded data removed]",
            "text/plain": [
              "<Figure size 432x288 with 1 Axes>"
            ]
          },
          "metadata": {
            "tags": [],
            "needs_background": "light"
          }
        }
      ]
    }
  ]
}